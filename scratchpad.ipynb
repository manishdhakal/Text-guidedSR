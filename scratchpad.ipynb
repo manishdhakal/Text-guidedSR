{
 "cells": [
  {
   "cell_type": "code",
   "execution_count": 13,
   "metadata": {},
   "outputs": [],
   "source": [
    "from torchmetrics.image import PeakSignalNoiseRatio\n",
    "\n",
    "import torch\n",
    "\n",
    "# def test_psnr():\n",
    "#     psnr = PeakSignalNoiseRatio()\n",
    "#     assert psnr(torch.zeros(1, 3, 10, 10), torch.zeros(1, 3, 10, 10)) == torch.tensor(100.0)\n",
    "#     assert psnr(torch.ones(1, 3, 10, 10), torch.ones(1, 3, 10, 10)) == torch.tensor(100.0)\n",
    "#     assert psnr(torch.zeros(1, 3, 10, 10), torch.ones(1, 3, 10, 10)) == torch.tensor(0.0)\n",
    "#     assert psnr(torch.ones(1, 3, 10, 10), torch.zeros(1, 3, 10, 10)) == torch.tensor(0.0)\n",
    "#     assert psnr(torch.zeros(1, 3, 10, 10), torch.ones(1, 3, 10, 10), data_range=1) == torch.tensor(0.0)\n",
    "#     assert psnr(torch.ones(1, 3, 10, 10), torch.zeros(1, 3, 10, 10), data_range=1) == torch.tensor(0.0)\n",
    "#     assert psnr(torch.zeros(1, 3, 10, 10), torch.ones(1, 3, 10, 10), data_range=255) == torch.tensor(48.1308)"
   ]
  },
  {
   "cell_type": "code",
   "execution_count": 26,
   "metadata": {},
   "outputs": [
    {
     "data": {
      "text/plain": [
       "tensor(0.)"
      ]
     },
     "execution_count": 26,
     "metadata": {},
     "output_type": "execute_result"
    }
   ],
   "source": [
    "psnr = PeakSignalNoiseRatio(data_range=1.0)\n",
    "# psnr(, torch.zeros(16, 3, 10, 10))\n",
    "pred = torch.ones(16, 3, 10, 10)\n",
    "target = torch.zeros_like(pred)\n",
    "\n",
    "psnr(pred, target)"
   ]
  },
  {
   "cell_type": "code",
   "execution_count": null,
   "metadata": {},
   "outputs": [],
   "source": []
  }
 ],
 "metadata": {
  "kernelspec": {
   "display_name": "adv_img",
   "language": "python",
   "name": "python3"
  },
  "language_info": {
   "codemirror_mode": {
    "name": "ipython",
    "version": 3
   },
   "file_extension": ".py",
   "mimetype": "text/x-python",
   "name": "python",
   "nbconvert_exporter": "python",
   "pygments_lexer": "ipython3",
   "version": "3.9.21"
  }
 },
 "nbformat": 4,
 "nbformat_minor": 2
}
